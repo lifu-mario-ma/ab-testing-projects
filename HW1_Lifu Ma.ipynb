{
 "cells": [
  {
   "cell_type": "code",
   "execution_count": 43,
   "id": "618cdd0a",
   "metadata": {},
   "outputs": [],
   "source": [
    "import pandas as pd\n",
    "import numpy as np\n",
    "import math\n",
    "from scipy.stats import ttest_ind\n",
    "import statsmodels.api as sm"
   ]
  },
  {
   "cell_type": "markdown",
   "id": "2bd111cb",
   "metadata": {},
   "source": [
    "# Exercise 1: Game Fun: Customer Acquisition through Digital Advertising"
   ]
  },
  {
   "cell_type": "code",
   "execution_count": 3,
   "id": "e26744c5",
   "metadata": {},
   "outputs": [
    {
     "data": {
      "text/html": [
       "<div>\n",
       "<style scoped>\n",
       "    .dataframe tbody tr th:only-of-type {\n",
       "        vertical-align: middle;\n",
       "    }\n",
       "\n",
       "    .dataframe tbody tr th {\n",
       "        vertical-align: top;\n",
       "    }\n",
       "\n",
       "    .dataframe thead th {\n",
       "        text-align: right;\n",
       "    }\n",
       "</style>\n",
       "<table border=\"1\" class=\"dataframe\">\n",
       "  <thead>\n",
       "    <tr style=\"text-align: right;\">\n",
       "      <th></th>\n",
       "      <th>id</th>\n",
       "      <th>test</th>\n",
       "      <th>purchase</th>\n",
       "      <th>site</th>\n",
       "      <th>impressions</th>\n",
       "      <th>income</th>\n",
       "      <th>gender</th>\n",
       "      <th>gamer</th>\n",
       "    </tr>\n",
       "  </thead>\n",
       "  <tbody>\n",
       "    <tr>\n",
       "      <th>0</th>\n",
       "      <td>1956</td>\n",
       "      <td>0</td>\n",
       "      <td>0</td>\n",
       "      <td>site1</td>\n",
       "      <td>0</td>\n",
       "      <td>100</td>\n",
       "      <td>1</td>\n",
       "      <td>0</td>\n",
       "    </tr>\n",
       "    <tr>\n",
       "      <th>1</th>\n",
       "      <td>45821</td>\n",
       "      <td>1</td>\n",
       "      <td>0</td>\n",
       "      <td>site1</td>\n",
       "      <td>20</td>\n",
       "      <td>70</td>\n",
       "      <td>1</td>\n",
       "      <td>0</td>\n",
       "    </tr>\n",
       "    <tr>\n",
       "      <th>2</th>\n",
       "      <td>59690</td>\n",
       "      <td>1</td>\n",
       "      <td>0</td>\n",
       "      <td>site1</td>\n",
       "      <td>22</td>\n",
       "      <td>100</td>\n",
       "      <td>1</td>\n",
       "      <td>0</td>\n",
       "    </tr>\n",
       "    <tr>\n",
       "      <th>3</th>\n",
       "      <td>18851</td>\n",
       "      <td>0</td>\n",
       "      <td>0</td>\n",
       "      <td>site1</td>\n",
       "      <td>13</td>\n",
       "      <td>90</td>\n",
       "      <td>1</td>\n",
       "      <td>0</td>\n",
       "    </tr>\n",
       "    <tr>\n",
       "      <th>4</th>\n",
       "      <td>60647</td>\n",
       "      <td>1</td>\n",
       "      <td>0</td>\n",
       "      <td>site1</td>\n",
       "      <td>12</td>\n",
       "      <td>60</td>\n",
       "      <td>1</td>\n",
       "      <td>0</td>\n",
       "    </tr>\n",
       "  </tbody>\n",
       "</table>\n",
       "</div>"
      ],
      "text/plain": [
       "      id  test  purchase   site  impressions  income  gender  gamer\n",
       "0   1956     0         0  site1            0     100       1      0\n",
       "1  45821     1         0  site1           20      70       1      0\n",
       "2  59690     1         0  site1           22     100       1      0\n",
       "3  18851     0         0  site1           13      90       1      0\n",
       "4  60647     1         0  site1           12      60       1      0"
      ]
     },
     "execution_count": 3,
     "metadata": {},
     "output_type": "execute_result"
    }
   ],
   "source": [
    "gf = pd.read_excel('GameFun.xlsx')\n",
    "gf.head()"
   ]
  },
  {
   "cell_type": "markdown",
   "id": "5e047f85",
   "metadata": {},
   "source": [
    "1.a compare the averages of the income, gender and gamer variables in the test and control groups. You should also report the % difference in the averages. Compute its statistical significance. [2 pts]"
   ]
  },
  {
   "cell_type": "code",
   "execution_count": 4,
   "id": "88aece99",
   "metadata": {},
   "outputs": [
    {
     "name": "stdout",
     "output_type": "stream",
     "text": [
      "income   -0.412890\n",
      "gender   -0.095049\n",
      "gamer    -0.081720\n",
      "dtype: float64\n"
     ]
    }
   ],
   "source": [
    "test_avg = gf.loc[gf['test'] == 1, ['income', 'gender', 'gamer']].mean()\n",
    "control_avg = gf.loc[gf['test'] == 0, ['income', 'gender', 'gamer']].mean()\n",
    "diff_pct = (test_avg - control_avg) / control_avg * 100\n",
    "print(diff_pct)"
   ]
  },
  {
   "cell_type": "code",
   "execution_count": 5,
   "id": "f33b0646",
   "metadata": {},
   "outputs": [],
   "source": [
    "# Perform t-test\n",
    "income_t, income_p = ttest_ind(gf.loc[gf['test'] == 1, 'income'], gf.loc[gf['test'] == 0, 'income'])\n",
    "gender_t, gender_p = ttest_ind(gf.loc[gf['test'] == 1, 'gender'], gf.loc[gf['test'] == 0, 'gender'])\n",
    "gamer_t, gamer_p = ttest_ind(gf.loc[gf['test'] == 1, 'gamer'], gf.loc[gf['test'] == 0, 'gamer'])"
   ]
  },
  {
   "cell_type": "code",
   "execution_count": 6,
   "id": "4abb750e",
   "metadata": {},
   "outputs": [
    {
     "name": "stdout",
     "output_type": "stream",
     "text": [
      "Income\n",
      "Test group average: 54.93823644583674\n",
      "Control group average: 55.166011541356525\n",
      "% difference: -0.4128902727524984 %\n",
      "p-value: 0.1283580345995143\n",
      "\n",
      "Gender\n",
      "Test group average: 0.647289167348973\n",
      "Control group average: 0.6479049928911934\n",
      "% difference: -0.0950487415558184 %\n",
      "p-value: 0.906033323148871\n",
      "\n",
      "Gamer\n",
      "Test group average: 0.6013313872770638\n",
      "Control group average: 0.6018231997992808\n",
      "% difference: -0.08172043257571342 %\n",
      "p-value: 0.9267036713286598\n"
     ]
    }
   ],
   "source": [
    "# Print results\n",
    "print('Income')\n",
    "print('Test group average:', test_avg['income'])\n",
    "print('Control group average:', control_avg['income'])\n",
    "print('% difference:', diff_pct['income'], '%')\n",
    "print('p-value:', income_p)\n",
    "print('')\n",
    "print('Gender')\n",
    "print('Test group average:', test_avg['gender'])\n",
    "print('Control group average:', control_avg['gender'])\n",
    "print('% difference:', diff_pct['gender'], '%')\n",
    "print('p-value:', gender_p)\n",
    "print('')\n",
    "print('Gamer')\n",
    "print('Test group average:', test_avg['gamer'])\n",
    "print('Control group average:', control_avg['gamer'])\n",
    "print('% difference:', diff_pct['gamer'], '%')\n",
    "print('p-value:', gamer_p)"
   ]
  },
  {
   "cell_type": "markdown",
   "id": "105a7603",
   "metadata": {},
   "source": [
    "Based on the results, there is no significant different between different groups."
   ]
  },
  {
   "cell_type": "markdown",
   "id": "4c846599",
   "metadata": {},
   "source": [
    "b. Briefly comment on what these metrics tell you about probabilistic equivalence for this experiment. [2 pts]"
   ]
  },
  {
   "cell_type": "markdown",
   "id": "cbb8e676",
   "metadata": {},
   "source": [
    "Based on the results, for all the statistical tests, under 5% significance level, all the p-values of t-tests are over 0.05, which mean that we do not have enough evidence to reject the null hypothesis to say that there is significnat difference in the averages of income, gender and gammer in the test and control groups.\n",
    "Also, for all the percent difference in the averages, the percent differences are all very small, which are all close to 0, which can also show the probabilistic equivalence for this experiment."
   ]
  },
  {
   "cell_type": "markdown",
   "id": "557b6dcf",
   "metadata": {},
   "source": [
    "c. If you had run this type of analysis BEFORE executing an experiment and found a large difference between test and control groups, what you should do? [5 pts]"
   ]
  },
  {
   "cell_type": "markdown",
   "id": "104515a8",
   "metadata": {},
   "source": [
    "If we had run this type of analysis before executing an experiment and found a large difference between the test and control groups, we should first investigate the cause of the difference and ensure that it is not due to any confounding variables that may have biased the results. To adjust the experiment design to control for these confounding variables, we could use random assignment to ensure that the test and control groups are similar in terms of demographic characteristics and other relevant factors. Alternatively, we could also use matching techniques or stratification to balance the groups on these variables.\n",
    "\n",
    "It is important to note that if the difference is due to chance or random variation, we should not exclude any participants or adjust the experiment design, as doing so may introduce bias into the analysis. In this case, we should simply report the results as they are and interpret them cautiously."
   ]
  },
  {
   "cell_type": "markdown",
   "id": "0f9327f5",
   "metadata": {},
   "source": [
    "d. (Open/Ended Question) If you had millions of consumers, your “classic” statistical significance tests would not work (this is because the number of samples is used to compute those classic statistical tests). Do some research online and propose what significance test would you do in case you had “big data”? [5 pts]"
   ]
  },
  {
   "cell_type": "markdown",
   "id": "e578af59",
   "metadata": {},
   "source": [
    "To conduct statistical tests in big data, we can try some resampling techniques such as the bootstrap or permutation test.\n",
    "\n",
    "The bootstrap involves randomly sampling with replacement from the original dataset to generate multiple \"bootstrap\" samples, and then computing the statistic of interest (e.g. mean, difference in means) for each of these samples. The distribution of the statistic across these bootstrap samples can then be used to estimate the sampling distribution and compute confidence intervals or p-values.\n",
    "\n",
    "Similarly, the permutation test involves randomly shuffling the labels (e.g. test vs control) of the dataset to generate multiple permutations, and then computing the statistic of interest for each permutation. The distribution of the statistic across these permutations can be used to compute p-values."
   ]
  },
  {
   "cell_type": "markdown",
   "id": "6870c0ef",
   "metadata": {},
   "source": [
    "2. Evaluate the average purchase rates in the test and control for the following groups. For each comparison, report the average purchase rate for the test, average purchase rate for the control and the absolute difference (not the % difference) between the test and control."
   ]
  },
  {
   "cell_type": "markdown",
   "id": "effb894a",
   "metadata": {},
   "source": [
    "a. Comparison 1: All customers [2 pts]"
   ]
  },
  {
   "cell_type": "code",
   "execution_count": 7,
   "id": "527e1138",
   "metadata": {},
   "outputs": [
    {
     "name": "stdout",
     "output_type": "stream",
     "text": [
      "Comparison 1: All customers\n",
      "Test Group: 1\n",
      "Control Group: 0\n",
      "\n",
      "Average Purchase Rate (Test): 0.077\n",
      "Average Purchase Rate (Control): 0.036\n",
      "Absolute Difference: 0.041\n",
      "\n"
     ]
    }
   ],
   "source": [
    "test_c = gf[gf['test'] == 1]['purchase'].mean()\n",
    "cont_c = gf[gf['test'] == 0]['purchase'].mean()\n",
    "diff_c = abs(test_c - cont_c)\n",
    "print('Comparison 1: All customers')\n",
    "print(f'Test Group: 1\\nControl Group: 0\\n')\n",
    "print(f'Average Purchase Rate (Test): {test_c:.3f}')\n",
    "print(f'Average Purchase Rate (Control): {cont_c:.3f}')\n",
    "print(f'Absolute Difference: {diff_c:.3f}\\n')"
   ]
  },
  {
   "cell_type": "markdown",
   "id": "04a18fe1",
   "metadata": {},
   "source": [
    "b. Comparison 2: Male vs Female customers [2 pts]"
   ]
  },
  {
   "cell_type": "code",
   "execution_count": 8,
   "id": "63c4d4f3",
   "metadata": {},
   "outputs": [
    {
     "name": "stdout",
     "output_type": "stream",
     "text": [
      "Comparison 2.1: Male customers\n",
      "Test Group: 1\n",
      "Control Group: 0\n",
      "\n",
      "Average Purchase Rate (Test): 0.075\n",
      "Average Purchase Rate (Control): 0.037\n",
      "Absolute Difference: 0.041\n",
      "\n"
     ]
    }
   ],
   "source": [
    "# Male\n",
    "test_m = gf[(gf['test'] == 1) & (gf['gender'] == 1)]['purchase'].mean()\n",
    "cont_m = gf[(gf['test'] == 0) & (gf['gender'] == 1)]['purchase'].mean()\n",
    "diff_m = abs(test_c - cont_c)\n",
    "print('Comparison 2.1: Male customers')\n",
    "print(f'Test Group: 1\\nControl Group: 0\\n')\n",
    "print(f'Average Purchase Rate (Test): {test_m:.3f}')\n",
    "print(f'Average Purchase Rate (Control): {cont_m:.3f}')\n",
    "print(f'Absolute Difference: {diff_m:.3f}\\n')"
   ]
  },
  {
   "cell_type": "code",
   "execution_count": 9,
   "id": "5327ade8",
   "metadata": {},
   "outputs": [
    {
     "name": "stdout",
     "output_type": "stream",
     "text": [
      "Comparison 2.2: Female customers\n",
      "Test Group: 1\n",
      "Control Group: 0\n",
      "\n",
      "Average Purchase Rate (Test): 0.081\n",
      "Average Purchase Rate (Control): 0.034\n",
      "Absolute Difference: 0.047\n",
      "\n"
     ]
    }
   ],
   "source": [
    "# Female\n",
    "test_f = gf[(gf['test'] == 1) & (gf['gender'] == 0)]['purchase'].mean()\n",
    "cont_f = gf[(gf['test'] == 0) & (gf['gender'] == 0)]['purchase'].mean()\n",
    "diff_f = abs(test_f - cont_f)\n",
    "print('Comparison 2.2: Female customers')\n",
    "print(f'Test Group: 1\\nControl Group: 0\\n')\n",
    "print(f'Average Purchase Rate (Test): {test_f:.3f}')\n",
    "print(f'Average Purchase Rate (Control): {cont_f:.3f}')\n",
    "print(f'Absolute Difference: {diff_f:.3f}\\n')"
   ]
  },
  {
   "cell_type": "markdown",
   "id": "240b6be5",
   "metadata": {},
   "source": [
    "c. Comparison 3: Gamers vs Non-Gamers Customers [2 pts]"
   ]
  },
  {
   "cell_type": "code",
   "execution_count": 10,
   "id": "274a1b23",
   "metadata": {},
   "outputs": [
    {
     "name": "stdout",
     "output_type": "stream",
     "text": [
      "Comparison 3.1: Gamers\n",
      "Test Group: 1\n",
      "Control Group: 0\n",
      "\n",
      "Average Purchase Rate (Test): 0.104\n",
      "Average Purchase Rate (Control): 0.035\n",
      "Absolute Difference: 0.069\n",
      "\n"
     ]
    }
   ],
   "source": [
    "# Gamer\n",
    "test_g = gf[(gf['test'] == 1) & (gf['gamer'] == 1)]['purchase'].mean()\n",
    "cont_g = gf[(gf['test'] == 0) & (gf['gamer'] == 1)]['purchase'].mean()\n",
    "diff_g = abs(test_g - cont_g)\n",
    "print('Comparison 3.1: Gamers')\n",
    "print(f'Test Group: 1\\nControl Group: 0\\n')\n",
    "print(f'Average Purchase Rate (Test): {test_g:.3f}')\n",
    "print(f'Average Purchase Rate (Control): {cont_g:.3f}')\n",
    "print(f'Absolute Difference: {diff_g:.3f}\\n')"
   ]
  },
  {
   "cell_type": "code",
   "execution_count": 11,
   "id": "5b55c0cf",
   "metadata": {},
   "outputs": [
    {
     "name": "stdout",
     "output_type": "stream",
     "text": [
      "Comparison 3.2: Non-Gamers\n",
      "Test Group: 1\n",
      "Control Group: 0\n",
      "\n",
      "Average Purchase Rate (Test): 0.035\n",
      "Average Purchase Rate (Control): 0.037\n",
      "Absolute Difference: 0.002\n",
      "\n"
     ]
    }
   ],
   "source": [
    "# Non-Gamer\n",
    "test_n = gf[(gf['test'] == 1) & (gf['gamer'] == 0)]['purchase'].mean()\n",
    "cont_n = gf[(gf['test'] == 0) & (gf['gamer'] == 0)]['purchase'].mean()\n",
    "diff_n = abs(test_n - cont_n)\n",
    "print('Comparison 3.2: Non-Gamers')\n",
    "print(f'Test Group: 1\\nControl Group: 0\\n')\n",
    "print(f'Average Purchase Rate (Test): {test_n:.3f}')\n",
    "print(f'Average Purchase Rate (Control): {cont_n:.3f}')\n",
    "print(f'Absolute Difference: {diff_n:.3f}\\n')"
   ]
  },
  {
   "cell_type": "markdown",
   "id": "5bad05bc",
   "metadata": {},
   "source": [
    "d. Comparison 4: Female Gamers vs Male Gamers [2 pts]"
   ]
  },
  {
   "cell_type": "code",
   "execution_count": 12,
   "id": "5b4bc74f",
   "metadata": {},
   "outputs": [
    {
     "name": "stdout",
     "output_type": "stream",
     "text": [
      "Comparison 4.1: Female Gamers\n",
      "Test Group: 1\n",
      "Control Group: 0\n",
      "\n",
      "Average Purchase Rate (Test): 0.110\n",
      "Average Purchase Rate (Control): 0.032\n",
      "Absolute Difference: 0.078\n",
      "\n"
     ]
    }
   ],
   "source": [
    "# Female Gamers\n",
    "test_fg = gf[(gf['test'] == 1) & (gf['gamer'] == 1) & (gf['gender'] == 0)]['purchase'].mean()\n",
    "cont_fg = gf[(gf['test'] == 0) & (gf['gamer'] == 1) & (gf['gender'] == 0)]['purchase'].mean()\n",
    "diff_fg = abs(test_fg - cont_fg)\n",
    "print('Comparison 4.1: Female Gamers')\n",
    "print(f'Test Group: 1\\nControl Group: 0\\n')\n",
    "print(f'Average Purchase Rate (Test): {test_fg:.3f}')\n",
    "print(f'Average Purchase Rate (Control): {cont_fg:.3f}')\n",
    "print(f'Absolute Difference: {diff_fg:.3f}\\n')"
   ]
  },
  {
   "cell_type": "code",
   "execution_count": 13,
   "id": "ae67a60e",
   "metadata": {},
   "outputs": [
    {
     "name": "stdout",
     "output_type": "stream",
     "text": [
      "Comparison 4.2: Male Gamers\n",
      "Test Group: 1\n",
      "Control Group: 0\n",
      "\n",
      "Average Purchase Rate (Test): 0.101\n",
      "Average Purchase Rate (Control): 0.037\n",
      "Absolute Difference: 0.064\n",
      "\n"
     ]
    }
   ],
   "source": [
    "# Male Gamers\n",
    "test_mg = gf[(gf['test'] == 1) & (gf['gamer'] == 1) & (gf['gender'] == 1)]['purchase'].mean()\n",
    "cont_mg = gf[(gf['test'] == 0) & (gf['gamer'] == 1) & (gf['gender'] == 1)]['purchase'].mean()\n",
    "diff_mg = abs(test_mg - cont_mg)\n",
    "print('Comparison 4.2: Male Gamers')\n",
    "print(f'Test Group: 1\\nControl Group: 0\\n')\n",
    "print(f'Average Purchase Rate (Test): {test_mg:.3f}')\n",
    "print(f'Average Purchase Rate (Control): {cont_mg:.3f}')\n",
    "print(f'Absolute Difference: {diff_mg:.3f}\\n')"
   ]
  },
  {
   "cell_type": "markdown",
   "id": "906c1873",
   "metadata": {},
   "source": [
    "3. Assess the expected revenue in the test vs. control for the following comparisons:"
   ]
  },
  {
   "cell_type": "markdown",
   "id": "2e17837c",
   "metadata": {},
   "source": [
    "a. Comparison 1: All customers [4 pts]"
   ]
  },
  {
   "cell_type": "code",
   "execution_count": 14,
   "id": "2f4af0a3",
   "metadata": {},
   "outputs": [
    {
     "name": "stdout",
     "output_type": "stream",
     "text": [
      "Comparison on expected revenue: All Customers\n",
      "Expected Revenue (Test): 80925.00\n",
      "Expected Revenue (Control): 16237.50\n",
      "Absolute Difference: 64687.50\n",
      "\n"
     ]
    }
   ],
   "source": [
    "# Based on historical data, a new customer subscription brings a revenue of $37.5 on average.\n",
    "rev_rate = 37.5\n",
    "# For all customers:\n",
    "n_test = len(gf[gf['test'] == 1])\n",
    "rev_test = n_test * test_c * rev_rate\n",
    "n_cont = len(gf[gf['test'] == 0])\n",
    "rev_cont = n_cont * cont_c * rev_rate\n",
    "diff_c_rev = abs(rev_test - rev_cont)\n",
    "print('Comparison on expected revenue: All Customers')\n",
    "print(f'Expected Revenue (Test): {rev_test:.2f}')\n",
    "print(f'Expected Revenue (Control): {rev_cont:.2f}')\n",
    "print(f'Absolute Difference: {diff_c_rev:.2f}\\n')"
   ]
  },
  {
   "cell_type": "markdown",
   "id": "a6201646",
   "metadata": {},
   "source": [
    "b. Comparison 4: Female Gamers vs Male Gamers [4 pts]"
   ]
  },
  {
   "cell_type": "code",
   "execution_count": 15,
   "id": "6054b9a3",
   "metadata": {},
   "outputs": [
    {
     "name": "stdout",
     "output_type": "stream",
     "text": [
      "Comparison on expected revenue: Female Gamers\n",
      "Expected Revenue (Test): 24750.00\n",
      "Expected Revenue (Control): 3037.50\n",
      "Absolute Difference: 21712.50\n",
      "\n"
     ]
    }
   ],
   "source": [
    "# For female gamers:\n",
    "f_test = len(gf[(gf['test'] == 1) & (gf['gamer'] == 1) & (gf['gender'] == 0)])\n",
    "rev_test_fg = f_test * test_fg * rev_rate\n",
    "f_cont = len(gf[(gf['test'] == 0) & (gf['gamer'] == 1) & (gf['gender'] == 0)])\n",
    "rev_cont_fg = f_cont * cont_fg * rev_rate\n",
    "diff_fg_rev = abs(rev_test_fg - rev_cont_fg)\n",
    "print('Comparison on expected revenue: Female Gamers')\n",
    "print(f'Expected Revenue (Test): {rev_test_fg:.2f}')\n",
    "print(f'Expected Revenue (Control): {rev_cont_fg:.2f}')\n",
    "print(f'Absolute Difference: {diff_fg_rev:.2f}\\n')"
   ]
  },
  {
   "cell_type": "code",
   "execution_count": 16,
   "id": "bf72548b",
   "metadata": {},
   "outputs": [
    {
     "name": "stdout",
     "output_type": "stream",
     "text": [
      "Comparison on expected revenue: Male Gamers\n",
      "Expected Revenue (Test): 41437.50\n",
      "Expected Revenue (Control): 6525.00\n",
      "Absolute Difference: 34912.50\n",
      "\n"
     ]
    }
   ],
   "source": [
    "# For male gamers:\n",
    "m_test = len(gf[(gf['test'] == 1) & (gf['gamer'] == 1) & (gf['gender'] == 1)])\n",
    "rev_test_mg = m_test * test_mg * rev_rate\n",
    "m_cont = len(gf[(gf['test'] == 0) & (gf['gamer'] == 1) & (gf['gender'] == 1)])\n",
    "rev_cont_mg = m_cont * cont_mg * rev_rate\n",
    "diff_mg_rev = abs(rev_test_mg - rev_cont_mg)\n",
    "print('Comparison on expected revenue: Male Gamers')\n",
    "print(f'Expected Revenue (Test): {rev_test_mg:.2f}')\n",
    "print(f'Expected Revenue (Control): {rev_cont_mg:.2f}')\n",
    "print(f'Absolute Difference: {diff_mg_rev:.2f}\\n')"
   ]
  },
  {
   "cell_type": "markdown",
   "id": "188123c1",
   "metadata": {},
   "source": [
    "4. Based on your previous answers, provide a brief recommendation to your management team summarizing the expected financial outcome for Game-Fun.\n",
    "a. Should Game-Fun run this promotion again in the future? If no, explain why. If yes, should Game-Fun offer it to all customers or a targeted segment. [10 pts]"
   ]
  },
  {
   "cell_type": "markdown",
   "id": "a3bb03da",
   "metadata": {},
   "source": [
    "Based on my analysis, Game-Fun should run this promotion again in the future. However, Game-Fun should not offer it to all customers, instead, it should focus on customers who are gamers, especially female gamers.\n",
    "\n",
    "First, I check the validity of the experiment by conducting statistical tests to compare people in test group and control group. The result shows that the assignment of groups is reasonable and the result of this experiment can be reliable.\n",
    "\n",
    "Then, let's check the results of the experiment. Generally, for all customers, by advertising, the Average Purchase Rate for test group is 0.041 higher than control group, which results in 64687.50 increase in the expected revenue. This increase shows that it makes sense to do some advertising for Game-Fun in the future since the revenue is greatly increased.\n",
    "\n",
    "Let's take a further look at the comparisons. For non-gamers, the average purchase rate changes very subtly, which means that this group of people may not be elastic to our advertisements, and they can not contribute a lot to the revenue increase. Therefore, the target customers should be gamers.\n",
    "\n",
    "For gamers, by advertising, the female gamers see an increase of percentage of 7.8%, which is higher than males, with an increase of 6.4%. As a result, for gamers, female gamers may be more sensitive to the advertisements.\n",
    "\n",
    "To conclude, according to all of the analysis, since it is a valid experiment, Game-Fun can offer promotions to gamers, especially female gamers."
   ]
  },
  {
   "cell_type": "markdown",
   "id": "457d0878",
   "metadata": {},
   "source": [
    "# Exercise 2: Non-Compliance in Randomized Experiments"
   ]
  },
  {
   "cell_type": "code",
   "execution_count": 17,
   "id": "48e1f190",
   "metadata": {},
   "outputs": [
    {
     "data": {
      "text/html": [
       "<div>\n",
       "<style scoped>\n",
       "    .dataframe tbody tr th:only-of-type {\n",
       "        vertical-align: middle;\n",
       "    }\n",
       "\n",
       "    .dataframe tbody tr th {\n",
       "        vertical-align: top;\n",
       "    }\n",
       "\n",
       "    .dataframe thead th {\n",
       "        text-align: right;\n",
       "    }\n",
       "</style>\n",
       "<table border=\"1\" class=\"dataframe\">\n",
       "  <thead>\n",
       "    <tr style=\"text-align: right;\">\n",
       "      <th></th>\n",
       "      <th>instrument</th>\n",
       "      <th>treatment</th>\n",
       "      <th>outcome</th>\n",
       "    </tr>\n",
       "  </thead>\n",
       "  <tbody>\n",
       "    <tr>\n",
       "      <th>0</th>\n",
       "      <td>0</td>\n",
       "      <td>0</td>\n",
       "      <td>0</td>\n",
       "    </tr>\n",
       "    <tr>\n",
       "      <th>1</th>\n",
       "      <td>0</td>\n",
       "      <td>0</td>\n",
       "      <td>0</td>\n",
       "    </tr>\n",
       "    <tr>\n",
       "      <th>2</th>\n",
       "      <td>0</td>\n",
       "      <td>0</td>\n",
       "      <td>0</td>\n",
       "    </tr>\n",
       "    <tr>\n",
       "      <th>3</th>\n",
       "      <td>0</td>\n",
       "      <td>0</td>\n",
       "      <td>0</td>\n",
       "    </tr>\n",
       "    <tr>\n",
       "      <th>4</th>\n",
       "      <td>0</td>\n",
       "      <td>0</td>\n",
       "      <td>0</td>\n",
       "    </tr>\n",
       "  </tbody>\n",
       "</table>\n",
       "</div>"
      ],
      "text/plain": [
       "   instrument  treatment  outcome\n",
       "0           0          0        0\n",
       "1           0          0        0\n",
       "2           0          0        0\n",
       "3           0          0        0\n",
       "4           0          0        0"
      ]
     },
     "execution_count": 17,
     "metadata": {},
     "output_type": "execute_result"
    }
   ],
   "source": [
    "sd = pd.read_csv('sommer_deger.csv')\n",
    "sd.head()"
   ]
  },
  {
   "cell_type": "markdown",
   "id": "c8063181",
   "metadata": {},
   "source": [
    "1. The first data scientist advised that one should compare the survival rate of babies whose mothers were offered Vitamin A shots to the survival rate of babies whose mothers were not offered a Vitamin A shot."
   ]
  },
  {
   "cell_type": "markdown",
   "id": "00e37807",
   "metadata": {},
   "source": [
    "a. What percent of babies whose mothers were offered Vitamin A shots for their babies died? [3 pts]"
   ]
  },
  {
   "cell_type": "code",
   "execution_count": 18,
   "id": "4be8c0f3",
   "metadata": {},
   "outputs": [
    {
     "name": "stdout",
     "output_type": "stream",
     "text": [
      "The percent of babies whose mothers were offered Vitamin A shots for their babies died is: 0.3804%\n"
     ]
    }
   ],
   "source": [
    "instru_1 = len(sd[sd['instrument'] == 1])\n",
    "instru_1_d = len(sd[(sd['instrument'] == 1) & (sd['outcome'] == 1)])\n",
    "per_1a = round((instru_1_d/instru_1) * 100,4)\n",
    "print(f'The percent of babies whose mothers were offered Vitamin A shots for their babies died is: {per_1a}%')"
   ]
  },
  {
   "cell_type": "markdown",
   "id": "4ba2ac33",
   "metadata": {},
   "source": [
    "b. What percent of babies whose mothers were not offered Vitamin A shots for their babies died? [3 pts]"
   ]
  },
  {
   "cell_type": "code",
   "execution_count": 19,
   "id": "866472db",
   "metadata": {},
   "outputs": [
    {
     "name": "stdout",
     "output_type": "stream",
     "text": [
      "The percent of babies whose mothers were not offered Vitamin A shots for their babies died is: 0.6386%\n"
     ]
    }
   ],
   "source": [
    "instru_0 = len(sd[sd['instrument'] == 0])\n",
    "instru_0_d = len(sd[(sd['instrument'] == 0) & (sd['outcome'] == 1)])\n",
    "per_1b = round((instru_0_d/instru_0) * 100,4)\n",
    "print(f'The percent of babies whose mothers were not offered Vitamin A shots for their babies died is: {per_1b}%')"
   ]
  },
  {
   "cell_type": "markdown",
   "id": "b13398f5",
   "metadata": {},
   "source": [
    "c. What is the difference in mortality, and under what assumptions is the difference between these two percentages a valid estimate of the causal impact of receiving vitamin A shots on survival? [4 pts]"
   ]
  },
  {
   "cell_type": "code",
   "execution_count": 20,
   "id": "accddf6f",
   "metadata": {},
   "outputs": [
    {
     "name": "stdout",
     "output_type": "stream",
     "text": [
      "The difference in mortality is: 0.2582%\n"
     ]
    }
   ],
   "source": [
    "diff_1c = round(abs(per_1a - per_1b),4)\n",
    "print(f'The difference in mortality is: {diff_1c}%')"
   ]
  },
  {
   "cell_type": "markdown",
   "id": "3c889dfd",
   "metadata": {},
   "source": [
    "The assumption is that all mothers who were offered Vitmamin A gave their children the shots. For mothers who have received Vitamin A shots, may be some of them failed to use them, which may make the results invalid because of self-selection problem. \n",
    "Moreover, randomization, no interference, no hidden confounders and large sample size are also the assumptions."
   ]
  },
  {
   "cell_type": "markdown",
   "id": "7be0e971",
   "metadata": {},
   "source": [
    "2. The second data scientist advised that one should compare the survival rates of babies who received Vitamin A shots to babies who did not receive Vitamin A shots."
   ]
  },
  {
   "cell_type": "markdown",
   "id": "78a20361",
   "metadata": {},
   "source": [
    "a. What percent of babies who received Vitamin A shots died? [3 pts]"
   ]
  },
  {
   "cell_type": "code",
   "execution_count": 21,
   "id": "328dd0cc",
   "metadata": {},
   "outputs": [
    {
     "name": "stdout",
     "output_type": "stream",
     "text": [
      "The percent of babies who received Vitamin A shots died is: 0.124%\n"
     ]
    }
   ],
   "source": [
    "treat_1 = len(sd[sd['treatment'] == 1])\n",
    "treat_1_d = len(sd[(sd['treatment'] == 1) & (sd['outcome'] == 1)])\n",
    "per_2a = round((treat_1_d/treat_1) * 100,4)\n",
    "print(f'The percent of babies who received Vitamin A shots died is: {per_2a}%')"
   ]
  },
  {
   "cell_type": "markdown",
   "id": "8473d989",
   "metadata": {},
   "source": [
    "b. What percent of babies who did not receive Vitamin A shots died? [3 pts]"
   ]
  },
  {
   "cell_type": "code",
   "execution_count": 22,
   "id": "5105e718",
   "metadata": {},
   "outputs": [
    {
     "name": "stdout",
     "output_type": "stream",
     "text": [
      "The percent of babies who did not receive Vitamin A shots died is: 0.771%\n"
     ]
    }
   ],
   "source": [
    "treat_0 = len(sd[sd['treatment'] == 0])\n",
    "treat_0_d = len(sd[(sd['treatment'] == 0) & (sd['outcome'] == 1)])\n",
    "per_2b = round((treat_0_d/treat_0) * 100,4)\n",
    "print(f'The percent of babies who did not receive Vitamin A shots died is: {per_2b}%')"
   ]
  },
  {
   "cell_type": "markdown",
   "id": "65ff9f87",
   "metadata": {},
   "source": [
    "c. What is the difference in mortality, and under what assumptions is the difference\n",
    "between these two percentages a valid estimate of the causal impact of receiving vitamin A shots on survival? [4 pts]"
   ]
  },
  {
   "cell_type": "code",
   "execution_count": 23,
   "id": "0c8f23f6",
   "metadata": {},
   "outputs": [
    {
     "name": "stdout",
     "output_type": "stream",
     "text": [
      "The difference in mortality is: 0.647%\n"
     ]
    }
   ],
   "source": [
    "diff_2c = round(abs(per_2a - per_2b),4)\n",
    "print(f'The difference in mortality is: {diff_2c}%')"
   ]
  },
  {
   "cell_type": "markdown",
   "id": "ed58a33d",
   "metadata": {},
   "source": [
    "The assumption is that there is no confounding variables. The shots that all children who received should be from the same source.\n",
    "Moreover, randomization, no interference, no hidden confounders and large sample size are also the assumptions."
   ]
  },
  {
   "cell_type": "markdown",
   "id": "75667123",
   "metadata": {},
   "source": [
    "3. The third data scientist advised that one should consider only babies whose mothers were offered Vitamin A shots, and compare babies who received shots to babies who did not receive shots."
   ]
  },
  {
   "cell_type": "markdown",
   "id": "dd9ea214",
   "metadata": {},
   "source": [
    "a. What percent of babies who received Vitamin A shots died? [3 pts]"
   ]
  },
  {
   "cell_type": "code",
   "execution_count": 24,
   "id": "5dec2898",
   "metadata": {},
   "outputs": [
    {
     "name": "stdout",
     "output_type": "stream",
     "text": [
      "The percent of babies who received Vitamin A shots and whose mothers were offered the shots died is: 0.124%\n"
     ]
    }
   ],
   "source": [
    "it_1 = len(sd[(sd['treatment'] == 1) & (sd['instrument'] == 1)])\n",
    "it_1_d = len(sd[(sd['treatment'] == 1) & (sd['instrument'] == 1) & (sd['outcome'] == 1)])\n",
    "per_3a = round((it_1_d/it_1) * 100,4)\n",
    "print(f'The percent of babies who received Vitamin A shots and whose mothers were offered the shots died is: {per_3a}%')"
   ]
  },
  {
   "cell_type": "markdown",
   "id": "ab6e9c09",
   "metadata": {},
   "source": [
    "b. What percent of babies whose mothers were offered Vitamin A shots, but the\n",
    "mothers did not accept them, died? [3 pts]"
   ]
  },
  {
   "cell_type": "code",
   "execution_count": 25,
   "id": "c0b8b16f",
   "metadata": {},
   "outputs": [
    {
     "name": "stdout",
     "output_type": "stream",
     "text": [
      "The percent of babies who did not receive Vitamin A shots and whose mothers were offered the shots died is: 1.4055%\n"
     ]
    }
   ],
   "source": [
    "it_0 = len(sd[(sd['treatment'] == 0) & (sd['instrument'] == 1)])\n",
    "it_0_d = len(sd[(sd['treatment'] == 0) & (sd['instrument'] == 1) & (sd['outcome'] == 1)])\n",
    "per_3b = round((it_0_d/it_0) * 100,4)\n",
    "print(f'The percent of babies who did not receive Vitamin A shots and whose mothers were offered the shots died is: {per_3b}%')"
   ]
  },
  {
   "cell_type": "markdown",
   "id": "17e60b50",
   "metadata": {},
   "source": [
    "c. What is the difference in mortality, and under what assumptions is the difference\n",
    "between these two percentages a valid estimate of the causal impact of receiving\n",
    "vitamin A shots on survival? [4 pts]"
   ]
  },
  {
   "cell_type": "code",
   "execution_count": 26,
   "id": "205c0332",
   "metadata": {},
   "outputs": [
    {
     "name": "stdout",
     "output_type": "stream",
     "text": [
      "The difference in mortality is: 1.2815%\n"
     ]
    }
   ],
   "source": [
    "diff_3c = round(abs(per_3a - per_3b),4)\n",
    "print(f'The difference in mortality is: {diff_3c}%')"
   ]
  },
  {
   "cell_type": "markdown",
   "id": "6ae0199a",
   "metadata": {},
   "source": [
    "The assumption is that there is only one way for children to get vitamin a shots (the shots given to children should be from their mothers). \n",
    "Since all children get shots in this case is from their mother, the source of the shots should be stable and all of their mothers should give their children shots.\n",
    "Moreover, randomization, no interference, no hidden confounders and large sample size are also the assumptions."
   ]
  },
  {
   "cell_type": "markdown",
   "id": "a32c9a6e",
   "metadata": {},
   "source": [
    "4. The fourth data scientist suggested the following Wald estimator for the effect of\n",
    "Vitamin A shots on mortality:\n",
    "(% 𝑜𝑓 𝑏𝑎𝑏𝑖𝑒𝑠 𝑜𝑓𝑓𝑒𝑟𝑒𝑑 𝑠h𝑜𝑡 𝑡h𝑎𝑡 𝑑𝑖𝑒𝑑 − % 𝑜𝑓 𝑏𝑎𝑏𝑖𝑒𝑠 𝑛𝑜𝑡 𝑜𝑓𝑓𝑒𝑟𝑒𝑑 𝑠h𝑜𝑡𝑠 𝑡h𝑎𝑡 𝑑𝑖𝑒𝑑) / (% 𝑜𝑓 𝑏𝑎𝑏𝑖𝑒𝑠 𝑤h𝑜 𝑤𝑒𝑟𝑒 𝑜𝑓𝑓𝑒𝑟𝑒𝑑 𝑎 𝑠h𝑜𝑡 𝑎𝑛𝑑 𝑟𝑒𝑐𝑒𝑖𝑣𝑒𝑑 𝑖𝑡)"
   ]
  },
  {
   "cell_type": "markdown",
   "id": "32822e73",
   "metadata": {},
   "source": [
    "a. Compute the above Wald estimate for the given dataset. [2 pts]"
   ]
  },
  {
   "cell_type": "code",
   "execution_count": 65,
   "id": "a6fc6043",
   "metadata": {},
   "outputs": [
    {
     "name": "stdout",
     "output_type": "stream",
     "text": [
      "The Wald estimate for this dataset is: -0.0032\n"
     ]
    }
   ],
   "source": [
    "n = len(sd[sd['instrument'] == 1])\n",
    "it_n = len(sd[(sd['instrument'] == 1) & (sd['treatment'] == 1)])\n",
    "per_4a = round((it_n / n) * 100 , 4)\n",
    "wald = round((per_1a - per_1b) / per_4a , 4)\n",
    "print(f'The Wald estimate for this dataset is: {wald}')"
   ]
  },
  {
   "cell_type": "markdown",
   "id": "11b8b25b",
   "metadata": {},
   "source": [
    "b. Under what assumptions is this estimate a valid estimate of the causal impact of\n",
    "vitamin A shots on survival? [4 pts]"
   ]
  },
  {
   "cell_type": "markdown",
   "id": "b99d4b97",
   "metadata": {},
   "source": [
    "The assumption is that there are no other confounding variables apart from the vitamin a given to mothers. In this case, only the vitamin a to mothers variable is controlled. As a result, to make this experiment more reliable, the shots given to children can not have access to other ways of getting Vitamin A shots apart from the Vitamin A shots from their mothers.\n",
    "Moreover, randomization, no interference, no hidden confounders and large sample size are also the assumptions."
   ]
  },
  {
   "cell_type": "markdown",
   "id": "b4d61529",
   "metadata": {},
   "source": [
    "c. What is the standard error for the intent-to-treat estimate recommended by the\n",
    "first data scientist? What is the standard error for the Wald estimate recommended by the fourth data scientist? [5 pts]"
   ]
  },
  {
   "cell_type": "code",
   "execution_count": 58,
   "id": "5a1ba3ec",
   "metadata": {},
   "outputs": [
    {
     "name": "stdout",
     "output_type": "stream",
     "text": [
      "                            OLS Regression Results                            \n",
      "==============================================================================\n",
      "Dep. Variable:                outcome   R-squared:                       0.000\n",
      "Model:                            OLS   Adj. R-squared:                  0.000\n",
      "Method:                 Least Squares   F-statistic:                     7.830\n",
      "Date:                Thu, 13 Apr 2023   Prob (F-statistic):            0.00514\n",
      "Time:                        23:08:41   Log-Likelihood:                 29040.\n",
      "No. Observations:               23682   AIC:                        -5.808e+04\n",
      "Df Residuals:                   23680   BIC:                        -5.806e+04\n",
      "Df Model:                           1                                         \n",
      "Covariance Type:            nonrobust                                         \n",
      "==============================================================================\n",
      "                 coef    std err          t      P>|t|      [0.025      0.975]\n",
      "------------------------------------------------------------------------------\n",
      "const          0.0064      0.001      9.683      0.000       0.005       0.008\n",
      "instrument    -0.0026      0.001     -2.798      0.005      -0.004      -0.001\n",
      "==============================================================================\n",
      "Omnibus:                    43237.828   Durbin-Watson:                   0.042\n",
      "Prob(Omnibus):                  0.000   Jarque-Bera (JB):         37228295.628\n",
      "Skew:                          13.934   Prob(JB):                         0.00\n",
      "Kurtosis:                     195.228   Cond. No.                         2.64\n",
      "==============================================================================\n",
      "\n",
      "Notes:\n",
      "[1] Standard Errors assume that the covariance matrix of the errors is correctly specified.\n"
     ]
    },
    {
     "data": {
      "text/plain": [
       "const         0.000660\n",
       "instrument    0.000923\n",
       "dtype: float64"
      ]
     },
     "execution_count": 58,
     "metadata": {},
     "output_type": "execute_result"
    }
   ],
   "source": [
    "# SE for the intent-to-treat estimate\n",
    "ins = sd[['instrument']]\n",
    "treat = sd[['treatment']]\n",
    "outcome = sd[['outcome']]\n",
    "model_4_1 = sm.OLS(outcome, sm.add_constant(ins)).fit()\n",
    "print(model_4_1.summary())\n",
    "model_4_1.bse"
   ]
  },
  {
   "cell_type": "code",
   "execution_count": 61,
   "id": "5a5a8c84",
   "metadata": {},
   "outputs": [
    {
     "name": "stdout",
     "output_type": "stream",
     "text": [
      "The standard error for the intent-to-treat estimate recommended by the first data scientist is: 0.000923\n"
     ]
    }
   ],
   "source": [
    "print(f'The standard error for the intent-to-treat estimate recommended by the first data scientist is: 0.000923')"
   ]
  },
  {
   "cell_type": "code",
   "execution_count": 59,
   "id": "bd8f2e32",
   "metadata": {},
   "outputs": [],
   "source": [
    "model = sm.OLS(treat, sm.add_constant(ins)).fit()\n",
    "predicted_treat = model.predict(sm.add_constant(ins))"
   ]
  },
  {
   "cell_type": "code",
   "execution_count": 60,
   "id": "7786cd47",
   "metadata": {},
   "outputs": [
    {
     "name": "stdout",
     "output_type": "stream",
     "text": [
      "                            OLS Regression Results                            \n",
      "==============================================================================\n",
      "Dep. Variable:                outcome   R-squared:                       0.000\n",
      "Model:                            OLS   Adj. R-squared:                  0.000\n",
      "Method:                 Least Squares   F-statistic:                     7.830\n",
      "Date:                Thu, 13 Apr 2023   Prob (F-statistic):            0.00514\n",
      "Time:                        23:08:54   Log-Likelihood:                 29040.\n",
      "No. Observations:               23682   AIC:                        -5.808e+04\n",
      "Df Residuals:                   23680   BIC:                        -5.806e+04\n",
      "Df Model:                           1                                         \n",
      "Covariance Type:            nonrobust                                         \n",
      "==============================================================================\n",
      "                 coef    std err          t      P>|t|      [0.025      0.975]\n",
      "------------------------------------------------------------------------------\n",
      "const          0.0064      0.001      9.683      0.000       0.005       0.008\n",
      "0             -0.0032      0.001     -2.798      0.005      -0.005      -0.001\n",
      "==============================================================================\n",
      "Omnibus:                    43237.828   Durbin-Watson:                   0.042\n",
      "Prob(Omnibus):                  0.000   Jarque-Bera (JB):         37228295.628\n",
      "Skew:                          13.934   Prob(JB):                         0.00\n",
      "Kurtosis:                     195.228   Cond. No.                         2.98\n",
      "==============================================================================\n",
      "\n",
      "Notes:\n",
      "[1] Standard Errors assume that the covariance matrix of the errors is correctly specified.\n"
     ]
    },
    {
     "data": {
      "text/plain": [
       "const    0.000660\n",
       "0        0.001154\n",
       "dtype: float64"
      ]
     },
     "execution_count": 60,
     "metadata": {},
     "output_type": "execute_result"
    }
   ],
   "source": [
    "model_4_2 = sm.OLS(outcome, sm.add_constant(predicted_treat)).fit()\n",
    "print(model_4_2.summary())\n",
    "model_4_2.bse"
   ]
  },
  {
   "cell_type": "code",
   "execution_count": 62,
   "id": "18f83ab8",
   "metadata": {},
   "outputs": [
    {
     "name": "stdout",
     "output_type": "stream",
     "text": [
      "The standard error for the Wald estimate recommended by the fourth data scientist is: 0.001154\n"
     ]
    }
   ],
   "source": [
    "# SE for the Wald estimate\n",
    "print(f'The standard error for the Wald estimate recommended by the fourth data scientist is: 0.001154')"
   ]
  },
  {
   "cell_type": "markdown",
   "id": "8a1b4ad8",
   "metadata": {},
   "source": [
    "i. Which one is larger and why? [4 pts]"
   ]
  },
  {
   "cell_type": "markdown",
   "id": "9147affe",
   "metadata": {},
   "source": [
    "Based on the result, the SE of the Wald estimate is larger. \n",
    "It is because the Wald estimate takes into account the one-sided non-compliance, while the intent-to-treat estimate does not. Non-compliance can introduce bias in the analysis, leading to incorrect estimates of the treatment effect and its SE.\n",
    "Since there might be one-sided non-compliance in this case, the SE of the Wald estimate is larger than that of the intent-to-treat estimate because it takes into account the additional uncertainty introduced by the non-compliance."
   ]
  },
  {
   "cell_type": "markdown",
   "id": "e778c74f",
   "metadata": {},
   "source": [
    "ii. Why might these standard errors be biased? What information would you\n",
    "ideally want to have to address this bias? [5 pts]"
   ]
  },
  {
   "cell_type": "markdown",
   "id": "51eb1377",
   "metadata": {},
   "source": [
    "These standard errors might be biased because they assume that the randomization was perfect and that there were no other confounding factors that could have affected the outcome. However, in real-world scenarios, there may be unobserved or unmeasured confounders that can lead to bias in the estimates.\n",
    "\n",
    "To address this bias, we would ideally want to have information on all possible confounding factors that could have affected the outcome. This could include variables such as maternal health status, socio-economic status, and access to healthcare. We would also want to have information on the reasons for non-compliance, as this could provide insight into whether there were any underlying factors that could have influenced the outcome. Additionally, we would want to have data on the compliance rates within each treatment group, as this could help us to better estimate the correlation between treatment assignment and compliance. Finally, we would want to use appropriate statistical methods to adjust for any confounding factors and estimate the causal effect of the treatment more accurately."
   ]
  },
  {
   "cell_type": "markdown",
   "id": "d74626ea",
   "metadata": {},
   "source": [
    "# Exercise 3: Causal Inference in Observational Studies"
   ]
  },
  {
   "cell_type": "markdown",
   "id": "8eabe982",
   "metadata": {},
   "source": [
    "After reading this paper, the biggest point that resonated with me is that 'These methods(propensity score methods) are intended to eliminate bias, but are not intended to increase precision.' Before I read this paper, when it comes to propensity score methods, all I can think about is that it is a method for us to eliminate bias so that the precision can be increased, but the author mentioned that the elimination of bias and the increase in precision are actually separated two things. Precision refers to the accuracy and consistency of the estimated effect size. It is affected by the sample size and the variance of the outcome variable. For propensity score methods, it can only eliminate bias when the assignment mechanism is truly unconfounded given the observed covariates X, but still, only randomization can elinimate bias due to all covariates. The author recommended blocking and matching on paticular covariates as techniques of increasing precision. Blocking refers to the process of stratifying the sample into subgroups based on a particular covariate or set of covariates that are strongly associated with the treatment assignment and the outcome. By doing this, the treatment and control groups within each stratum will be more similar, which reduces the variance of the outcome variable and increases precision. Matching involves selecting controls for each treated subject that have similar propensity scores. This creates pairs of treated and control subjects that are similar in terms of observed covariates, which again reduces the variance of the outcome variable and increases precision.\n",
    "\n",
    "In summary, propensity score methods can eliminate bias due to confounding variables, but precision can only be increased by using other techniques such as blocking and matching. However, it is important to keep in mind that the precision of the estimate is also affected by other factors such as the sample size and the variance of the outcome variable."
   ]
  }
 ],
 "metadata": {
  "kernelspec": {
   "display_name": "Python 3 (ipykernel)",
   "language": "python",
   "name": "python3"
  },
  "language_info": {
   "codemirror_mode": {
    "name": "ipython",
    "version": 3
   },
   "file_extension": ".py",
   "mimetype": "text/x-python",
   "name": "python",
   "nbconvert_exporter": "python",
   "pygments_lexer": "ipython3",
   "version": "3.9.13"
  }
 },
 "nbformat": 4,
 "nbformat_minor": 5
}
